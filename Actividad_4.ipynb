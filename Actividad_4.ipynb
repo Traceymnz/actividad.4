{
  "cells": [
    {
      "cell_type": "markdown",
      "id": "60d1c9e3-34d4-4278-9b6f-6deaa18bfa16",
      "metadata": {
        "id": "60d1c9e3-34d4-4278-9b6f-6deaa18bfa16"
      },
      "source": [
        "# Prácticas Profesionalizantes 2024\n",
        "EEST 9\n",
        "\n",
        "# Actividad 4\n",
        "\n",
        "#Conociendo qué es un dataset y qué datos contiene"
      ]
    },
    {
      "cell_type": "markdown",
      "source": [
        "## Trabajo en grupo entre 2 o 3 estudiantes\n",
        "Indicar los nombres y los links de los repositorios de la actividad 3 de los integrantes:\n",
        "* Rosso Aylén: https://github.com/Aylu222/actividad-4.git\n",
        "* Monzón Tracey: https://github.com/Traceymnz/actividad.4.git\n",
        "* Silva Morena: https://github.com/SilvaMorena/Actividad-4.git"
      ],
      "metadata": {
        "id": "HyDvHWoNS--n"
      },
      "id": "HyDvHWoNS--n"
    },
    {
      "cell_type": "markdown",
      "source": [
        "# Parte 1"
      ],
      "metadata": {
        "id": "Nnb6G-PBrCdr"
      },
      "id": "Nnb6G-PBrCdr"
    },
    {
      "cell_type": "markdown",
      "id": "c16a0c86-50c0-44e7-b04c-bd96ecd19c71",
      "metadata": {
        "id": "c16a0c86-50c0-44e7-b04c-bd96ecd19c71"
      },
      "source": [
        "## 1.Investigue los siguientes sitios\n",
        "¿Qué formatos de archivos encuentra?\n",
        "* Datos Argentina https://www.datos.gob.ar\n",
        "* Censo 2022: https://censo.gob.ar/\n",
        "* Ministerio de Defensa: https://www.ign.gob.ar/NuestrasActividades/InformacionGeoespacial/CapasSIG\n",
        "* kaggle: https://www.kaggle.com/\n",
        "* World Data: https://ourworldindata.org/\n",
        "* Statista: https://www.statista.com/statistics/1401035/uk-social-media-users-by-education/\n",
        "\n"
      ]
    },
    {
      "cell_type": "markdown",
      "id": "e263e83a-b4ce-4b31-a5b6-39e2fa262c0f",
      "metadata": {
        "id": "e263e83a-b4ce-4b31-a5b6-39e2fa262c0f"
      },
      "source": [
        "#Responder"
      ]
    },
    {
      "cell_type": "markdown",
      "source": [
        "Los formatos que se encuentran son: xls,pdf. csv, zip, shp, json,html, kml, geojson, metadatos.\n"
      ],
      "metadata": {
        "id": "YHg5IqFlrcUW"
      },
      "id": "YHg5IqFlrcUW"
    },
    {
      "cell_type": "markdown",
      "id": "bb442f67-f07c-47ac-a502-c66215752936",
      "metadata": {
        "id": "bb442f67-f07c-47ac-a502-c66215752936"
      },
      "source": [
        "## 2.¿Con qué programas podemos abrir estos archivos?\n",
        "* **Nota**: probar abrir con el bloc de notas o editar de texto simple"
      ]
    },
    {
      "cell_type": "markdown",
      "id": "bd04e348-52c0-46fb-89a2-2eec4ab636c6",
      "metadata": {
        "id": "bd04e348-52c0-46fb-89a2-2eec4ab636c6"
      },
      "source": [
        "#Respuesta\n",
        "Los programas para abrir archivos son:\n",
        "\n",
        "\n",
        "*  Xls: excel\n",
        "*  Pdf: es admitido por cualqueir software no es abierto\n",
        "*  Cvs: excel, block de notas\n",
        "*  zip: winzip\n",
        "*  Shp: AutoCAD Map 3D y Civil 3D.\n",
        "*  Json: excel, python.\n",
        "*  Html: visual code.\n",
        "*  kml: Google Earth Chrome (versión 9)\n",
        "*  GEOjson: desde una página de usBIM\n",
        "*  Metadatos: word,pdf.\n",
        "*  Sqlite: JavaScript\n",
        "\n",
        "\n",
        "\n",
        "\n"
      ]
    },
    {
      "cell_type": "markdown",
      "id": "256a0a45-b30c-47e9-afe7-5770561184c1",
      "metadata": {
        "id": "256a0a45-b30c-47e9-afe7-5770561184c1"
      },
      "source": [
        "## 3.¿Cuál es la diferencia de abrirlo con una aplicación o con python?"
      ]
    },
    {
      "cell_type": "markdown",
      "source": [
        "* La diferencia que encontramos es que al abrirlo con una aplicación no muestra el código, sino los datos obtenidos. En cambio en python podemos ver mas alla de la presentacion, es decir podemos ver todo el codigo y modificarlo\n"
      ],
      "metadata": {
        "id": "X-3lc79l_Ee9"
      },
      "id": "X-3lc79l_Ee9"
    },
    {
      "cell_type": "markdown",
      "id": "6b138c5d-1fc8-49e5-a757-ccceb60d3b60",
      "metadata": {
        "id": "6b138c5d-1fc8-49e5-a757-ccceb60d3b60"
      },
      "source": [
        "## 4.¿Cuáles son formatos abiertos y cuáles no ?"
      ]
    },
    {
      "cell_type": "raw",
      "id": "f0933702-e5d0-4c7d-9790-7a58ad8c0a41",
      "metadata": {
        "id": "f0933702-e5d0-4c7d-9790-7a58ad8c0a41"
      },
      "source": [
        "#Respuesta\n",
        "\n",
        "\n",
        "\n"
      ]
    },
    {
      "cell_type": "markdown",
      "source": [
        "\n",
        "* Formatos abiertos: html, sqlite, kml yGEOjson\n",
        "*  Formatos cerrados: Metadatos, Cvs, zip, pdf, xls, shp y json."
      ],
      "metadata": {
        "id": "caDSWHpKsJIn"
      },
      "id": "caDSWHpKsJIn"
    },
    {
      "cell_type": "markdown",
      "id": "44b5c704-a31d-4ce7-9737-8e10a279fbd3",
      "metadata": {
        "id": "44b5c704-a31d-4ce7-9737-8e10a279fbd3"
      },
      "source": [
        "## 5.Descargue uno de los siguientes archivos y responda las siguientes preguntas\n",
        "* [Aeropuertos Argentina](https://ourairports.com/countries/AR/airports.csv)\n",
        "* [Áreas protegidas](https://dnsg.ign.gob.ar/apps/api/v1/capas-sig/Geodesia+y+demarcaci%C3%B3n/L%C3%ADmites/area_protegida/csv)\n",
        "* [Conectivdad Argentina](https://datos.gob.ar/dataset/enacom-conectividad-al-servicio-internet/archivo/enacom_CONEC-AL-SERVI-DE-INTER_0)\n",
        "* [Lagos Argentinos](https://drive.google.com/file/d/1IrQhlI15z449f0qO82QVCkkjHvVoqBJ1/view?usp=sharing). Sitio de donde se descargó manualmente: https://www.ign.gob.ar/NuestrasActividades/Geografia/DatosArgentina/Lagos\n",
        "* [Concurrencia a Parque Nacionales](https://www.datos.gob.ar/dataset/turismo-parques-nacionales/archivo/turismo_a570af75-ed33-427c-9797-980fc0cd8fd1)\n",
        "* [Datos sobre consumo cultural](https://datos.cultura.gob.ar/dataset/encuesta-nacional-de-consumos-culturales)"
      ]
    },
    {
      "cell_type": "markdown",
      "id": "30c4171e-6213-4948-a7eb-a1e128a0bab6",
      "metadata": {
        "id": "30c4171e-6213-4948-a7eb-a1e128a0bab6"
      },
      "source": [
        "## 6.Abra el dataset con una  aplicación a elección\n",
        "* Indique la cantidad de:\n",
        "    * filas\n",
        "    * columnas\n",
        "* Indique cuáles y cuántos valores únicos contiene la **columna especificada** según el dataset elegido."
      ]
    },
    {
      "cell_type": "markdown",
      "id": "cc3f89e1-69f0-4ce0-b84f-8010b2c7b20a",
      "metadata": {
        "id": "cc3f89e1-69f0-4ce0-b84f-8010b2c7b20a"
      },
      "source": [
        "* Aeropuertos Argentina:type\n",
        "* Áreas protegidas: tap   \n",
        "* Conectivdad Argentina: elegir una de las tecnologías: ADSL \tCABLEMODEM \tDIALUP \tFIBRAOPTICA \tSATELITAL \tWIRELESS \tTELEFONIAFIJA\n",
        "* Lagos Argentinos: Ubicación\n",
        "* Concurrencia a Parque Nacionales:origen_visitantes\n",
        "* Datos sobre consumo cultural: p4\n"
      ]
    },
    {
      "cell_type": "markdown",
      "source": [],
      "metadata": {
        "id": "Vu-7Njqs9aXm"
      },
      "id": "Vu-7Njqs9aXm"
    },
    {
      "cell_type": "markdown",
      "id": "073a3988-6387-4084-a430-e665771a33c9",
      "metadata": {
        "id": "073a3988-6387-4084-a430-e665771a33c9"
      },
      "source": [
        "## Ahora trabajaremos con python y la librería pandas"
      ]
    },
    {
      "cell_type": "markdown",
      "id": "963afbf1-4453-4d4b-a599-2b81637d388a",
      "metadata": {
        "id": "963afbf1-4453-4d4b-a599-2b81637d388a"
      },
      "source": [
        "Para trabajar con el archivo utilizaremos la librería pandas, primero la importamos"
      ]
    },
    {
      "cell_type": "code",
      "execution_count": null,
      "id": "ee80e294-ed74-4e6b-a56e-1a9eed6d23da",
      "metadata": {
        "id": "ee80e294-ed74-4e6b-a56e-1a9eed6d23da",
        "colab": {
          "base_uri": "https://localhost:8080/"
        },
        "outputId": "9184e634-2cf7-44f3-a0f8-b4874f807aa8"
      },
      "outputs": [
        {
          "output_type": "execute_result",
          "data": {
            "text/plain": [
              "Index(['id', 'ident', 'type', 'name', 'latitude_deg', 'longitude_deg',\n",
              "       'elevation_ft', 'continent', 'country_name', 'iso_country',\n",
              "       'region_name', 'iso_region', 'local_region', 'municipality',\n",
              "       'scheduled_service', 'gps_code', 'iata_code', 'local_code', 'home_link',\n",
              "       'wikipedia_link', 'keywords', 'score', 'last_updated'],\n",
              "      dtype='object')"
            ]
          },
          "metadata": {},
          "execution_count": 19
        }
      ],
      "source": [
        "import pandas as pd\n",
        "aeropuerto_1 = pd.read_csv ('ar-airports.csv')\n",
        "aeropuerto_1.columns\n",
        "#nombre_variable.columns"
      ]
    },
    {
      "cell_type": "markdown",
      "source": [],
      "metadata": {
        "id": "zTJX2BI8AeAC"
      },
      "id": "zTJX2BI8AeAC"
    },
    {
      "cell_type": "markdown",
      "source": [
        "pandas:"
      ],
      "metadata": {
        "id": "ZrBc2Lmj-CkV"
      },
      "id": "ZrBc2Lmj-CkV"
    },
    {
      "cell_type": "markdown",
      "id": "bb1bcf06-e3a5-4f56-a2e1-a7834a1d3bd4",
      "metadata": {
        "id": "bb1bcf06-e3a5-4f56-a2e1-a7834a1d3bd4"
      },
      "source": [
        "Luego abrimos el archivo con la librería **pandas**\n",
        "* la función **read_csv**. Se pueden abrir otros tipos de archivos con otroas funciones.\n",
        "* la sentencia **columns** lista los nombres de las columnas\n",
        "```python\n",
        "nombre_variable = pd.read_csv('nombre_archivo.csv')\n",
        "nombre_variable.columns\n",
        "```"
      ]
    },
    {
      "cell_type": "code",
      "source": [
        "from google.colab import drive\n",
        "aeropuerto_1 = ('/content/drive')"
      ],
      "metadata": {
        "id": "bcoczsFsqYjq"
      },
      "id": "bcoczsFsqYjq",
      "execution_count": null,
      "outputs": []
    },
    {
      "cell_type": "markdown",
      "id": "39ea6873-4246-4e0b-97f1-d2f4aecec66b",
      "metadata": {
        "id": "39ea6873-4246-4e0b-97f1-d2f4aecec66b"
      },
      "source": [
        "## 7.Indique los nombres de las columnas"
      ]
    },
    {
      "cell_type": "code",
      "execution_count": null,
      "id": "0b6f6a82-ab33-406b-9ff5-89a7a2ada066",
      "metadata": {
        "id": "0b6f6a82-ab33-406b-9ff5-89a7a2ada066",
        "colab": {
          "base_uri": "https://localhost:8080/"
        },
        "outputId": "8c183dcc-5908-4bcf-da09-5fa6c088d502"
      },
      "outputs": [
        {
          "output_type": "execute_result",
          "data": {
            "text/plain": [
              "Index(['id', 'ident', 'type', 'name', 'latitude_deg', 'longitude_deg',\n",
              "       'elevation_ft', 'continent', 'country_name', 'iso_country',\n",
              "       'region_name', 'iso_region', 'local_region', 'municipality',\n",
              "       'scheduled_service', 'gps_code', 'iata_code', 'local_code', 'home_link',\n",
              "       'wikipedia_link', 'keywords', 'score', 'last_updated'],\n",
              "      dtype='object')"
            ]
          },
          "metadata": {},
          "execution_count": 21
        }
      ],
      "source": [
        "#Respuesta\n",
        "import pandas as pd\n",
        "nombres = pd.read_csv('ar-airports.csv')\n",
        "nombres.columns"
      ]
    },
    {
      "cell_type": "markdown",
      "source": [],
      "metadata": {
        "id": "NmykyKAB9xvg"
      },
      "id": "NmykyKAB9xvg"
    },
    {
      "cell_type": "markdown",
      "id": "f1bc5222-fb0e-42ea-be01-8189eef414db",
      "metadata": {
        "id": "f1bc5222-fb0e-42ea-be01-8189eef414db"
      },
      "source": [
        "## 8.Indique el tipo de dato de la variable:\n",
        "```python\n",
        "type(nombre_variable)\n",
        "```"
      ]
    },
    {
      "cell_type": "code",
      "source": [
        "type (aeropuerto_1)"
      ],
      "metadata": {
        "colab": {
          "base_uri": "https://localhost:8080/"
        },
        "id": "j1DeH3hBz0Ku",
        "outputId": "817b3204-ff94-4b81-f46f-a3de2715fe9e"
      },
      "id": "j1DeH3hBz0Ku",
      "execution_count": null,
      "outputs": [
        {
          "output_type": "execute_result",
          "data": {
            "text/plain": [
              "str"
            ]
          },
          "metadata": {},
          "execution_count": 29
        }
      ]
    },
    {
      "cell_type": "markdown",
      "id": "43296795-b605-4af8-8fdb-3e1245465321",
      "metadata": {
        "id": "43296795-b605-4af8-8fdb-3e1245465321"
      },
      "source": [
        "## 9. Ahora con python vamos a buscar la misma información que encontramos con la aplicación\n",
        "* Indique la cantidad de:\n",
        "    * filas\n",
        "    * columnas\n",
        "* Indique cuáles y cuántos valores únicos contiene la **columna especificada** según el dataset elegido."
      ]
    },
    {
      "cell_type": "markdown",
      "id": "2bedaf05-aa05-40d5-9dac-ea5dbea5b8c0",
      "metadata": {
        "id": "2bedaf05-aa05-40d5-9dac-ea5dbea5b8c0"
      },
      "source": [
        "*  Aeropuertos Argentina:type\n",
        "* Áreas protegidas: tap   \n",
        "* Concurrencia a Parque Nacionales:origen_visitantes\n",
        "* Datos sobre consumo cultural: p4\n",
        "* Lagos Argentinos: Ubicación\n",
        "* Conectivdad Argentina: elegir una de las tecnologías: ADSL \tCABLEMODEM \tDIALUP \tFIBRAOPTICA \tSATELITAL \tWIRELESS \tTELEFONIAFIJA\n"
      ]
    },
    {
      "cell_type": "markdown",
      "id": "985e2b9d-048f-4298-9a0c-47a07130ace7",
      "metadata": {
        "id": "985e2b9d-048f-4298-9a0c-47a07130ace7"
      },
      "source": [
        "Utilizamos **shape** para saber la cantidad de filas  y columnas:\n",
        "```python\n",
        "nombre_dataframe.shape\n",
        "```"
      ]
    },
    {
      "cell_type": "code",
      "execution_count": null,
      "id": "b133e348-7c37-44ac-bf8d-baf26480959b",
      "metadata": {
        "id": "b133e348-7c37-44ac-bf8d-baf26480959b",
        "colab": {
          "base_uri": "https://localhost:8080/"
        },
        "outputId": "c82e815b-045c-435e-c1fd-8a3868c03678"
      },
      "outputs": [
        {
          "output_type": "execute_result",
          "data": {
            "text/plain": [
              "(943, 23)"
            ]
          },
          "metadata": {},
          "execution_count": 25
        }
      ],
      "source": [
        "#respuesta\n",
        "aeropuerto_1.shape"
      ]
    },
    {
      "cell_type": "markdown",
      "id": "ff176681-465f-4d37-b11b-eee7ad8191ed",
      "metadata": {
        "id": "ff176681-465f-4d37-b11b-eee7ad8191ed"
      },
      "source": [
        "Utilizamos el método unique para saber los valores únicos de una columna:\n",
        "```python\n",
        "nombre_dataframe.nombre_columna.unique()\n"
      ]
    },
    {
      "cell_type": "code",
      "execution_count": null,
      "id": "dad7140b-af1c-433c-821f-fa9714a1d736",
      "metadata": {
        "id": "dad7140b-af1c-433c-821f-fa9714a1d736",
        "colab": {
          "base_uri": "https://localhost:8080/"
        },
        "outputId": "4ec03c1d-493f-421a-8d6b-8fad411a7252"
      },
      "outputs": [
        {
          "output_type": "execute_result",
          "data": {
            "text/plain": [
              "array(['large_airport', 'medium_airport', 'closed', 'small_airport',\n",
              "       'heliport', 'balloonport'], dtype=object)"
            ]
          },
          "metadata": {},
          "execution_count": 24
        }
      ],
      "source": [
        "#respuesta\n",
        "aeropuerto_1.type.unique()"
      ]
    },
    {
      "cell_type": "markdown",
      "id": "dc05d3da-1f1b-4ab3-b2fa-3463d0f10d66",
      "metadata": {
        "id": "dc05d3da-1f1b-4ab3-b2fa-3463d0f10d66"
      },
      "source": [
        "## 10. Indique si las columnas contienen valores nulos"
      ]
    },
    {
      "cell_type": "markdown",
      "id": "4a985ee7-9d91-496d-b696-0274818ea568",
      "metadata": {
        "id": "4a985ee7-9d91-496d-b696-0274818ea568"
      },
      "source": [
        "La sentencia **isnull().sum()** suma la cantidad de valores nulos de cada columna del dataframe\n",
        "```\n",
        "nombre_dataframe.isnull().sum()\n",
        "```"
      ]
    },
    {
      "cell_type": "code",
      "source": [
        "aeropuerto_dataframe =  pd.read_csv ('ar-airports.csv')\n",
        "aeropuerto_dataframe.isnull().sum()"
      ],
      "metadata": {
        "id": "GDQOOv9FCete"
      },
      "id": "GDQOOv9FCete",
      "execution_count": null,
      "outputs": []
    },
    {
      "cell_type": "markdown",
      "id": "e6377436-b606-4147-870f-4e0428ac38fd",
      "metadata": {
        "id": "e6377436-b606-4147-870f-4e0428ac38fd"
      },
      "source": [
        "# Ejemplo con archivo de copa américa"
      ]
    },
    {
      "cell_type": "code",
      "execution_count": null,
      "id": "16fe81b3-8409-49f5-a690-fe24f8dec6eb",
      "metadata": {
        "scrolled": true,
        "id": "16fe81b3-8409-49f5-a690-fe24f8dec6eb"
      },
      "outputs": [],
      "source": [
        "import pandas as pd\n",
        "file_data = pd.read_csv('copa_america_historico.csv')"
      ]
    },
    {
      "cell_type": "code",
      "source": [
        "type(file_data)"
      ],
      "metadata": {
        "colab": {
          "base_uri": "https://localhost:8080/",
          "height": 203
        },
        "id": "Qbjsxk4Hdw3o",
        "outputId": "be1f3ccb-691b-4bcb-a7c7-e8bdee5aaef8"
      },
      "id": "Qbjsxk4Hdw3o",
      "execution_count": null,
      "outputs": [
        {
          "output_type": "execute_result",
          "data": {
            "text/plain": [
              "pandas.core.frame.DataFrame"
            ],
            "text/html": [
              "<div style=\"max-width:800px; border: 1px solid var(--colab-border-color);\"><style>\n",
              "      pre.function-repr-contents {\n",
              "        overflow-x: auto;\n",
              "        padding: 8px 12px;\n",
              "        max-height: 500px;\n",
              "      }\n",
              "\n",
              "      pre.function-repr-contents.function-repr-contents-collapsed {\n",
              "        cursor: pointer;\n",
              "        max-height: 100px;\n",
              "      }\n",
              "    </style>\n",
              "    <pre style=\"white-space: initial; background:\n",
              "         var(--colab-secondary-surface-color); padding: 8px 12px;\n",
              "         border-bottom: 1px solid var(--colab-border-color);\"><b>pandas.core.frame.DataFrame</b><br/>def __init__(data=None, index: Axes | None=None, columns: Axes | None=None, dtype: Dtype | None=None, copy: bool | None=None) -&gt; None</pre><pre class=\"function-repr-contents function-repr-contents-collapsed\" style=\"\"><a class=\"filepath\" style=\"display:none\" href=\"#\">/usr/local/lib/python3.10/dist-packages/pandas/core/frame.py</a>Two-dimensional, size-mutable, potentially heterogeneous tabular data.\n",
              "\n",
              "Data structure also contains labeled axes (rows and columns).\n",
              "Arithmetic operations align on both row and column labels. Can be\n",
              "thought of as a dict-like container for Series objects. The primary\n",
              "pandas data structure.\n",
              "\n",
              "Parameters\n",
              "----------\n",
              "data : ndarray (structured or homogeneous), Iterable, dict, or DataFrame\n",
              "    Dict can contain Series, arrays, constants, dataclass or list-like objects. If\n",
              "    data is a dict, column order follows insertion-order. If a dict contains Series\n",
              "    which have an index defined, it is aligned by its index. This alignment also\n",
              "    occurs if data is a Series or a DataFrame itself. Alignment is done on\n",
              "    Series/DataFrame inputs.\n",
              "\n",
              "    If data is a list of dicts, column order follows insertion-order.\n",
              "\n",
              "index : Index or array-like\n",
              "    Index to use for resulting frame. Will default to RangeIndex if\n",
              "    no indexing information part of input data and no index provided.\n",
              "columns : Index or array-like\n",
              "    Column labels to use for resulting frame when data does not have them,\n",
              "    defaulting to RangeIndex(0, 1, 2, ..., n). If data contains column labels,\n",
              "    will perform column selection instead.\n",
              "dtype : dtype, default None\n",
              "    Data type to force. Only a single dtype is allowed. If None, infer.\n",
              "copy : bool or None, default None\n",
              "    Copy data from inputs.\n",
              "    For dict data, the default of None behaves like ``copy=True``.  For DataFrame\n",
              "    or 2d ndarray input, the default of None behaves like ``copy=False``.\n",
              "    If data is a dict containing one or more Series (possibly of different dtypes),\n",
              "    ``copy=False`` will ensure that these inputs are not copied.\n",
              "\n",
              "    .. versionchanged:: 1.3.0\n",
              "\n",
              "See Also\n",
              "--------\n",
              "DataFrame.from_records : Constructor from tuples, also record arrays.\n",
              "DataFrame.from_dict : From dicts of Series, arrays, or dicts.\n",
              "read_csv : Read a comma-separated values (csv) file into DataFrame.\n",
              "read_table : Read general delimited file into DataFrame.\n",
              "read_clipboard : Read text from clipboard into DataFrame.\n",
              "\n",
              "Notes\n",
              "-----\n",
              "Please reference the :ref:`User Guide &lt;basics.dataframe&gt;` for more information.\n",
              "\n",
              "Examples\n",
              "--------\n",
              "Constructing DataFrame from a dictionary.\n",
              "\n",
              "&gt;&gt;&gt; d = {&#x27;col1&#x27;: [1, 2], &#x27;col2&#x27;: [3, 4]}\n",
              "&gt;&gt;&gt; df = pd.DataFrame(data=d)\n",
              "&gt;&gt;&gt; df\n",
              "   col1  col2\n",
              "0     1     3\n",
              "1     2     4\n",
              "\n",
              "Notice that the inferred dtype is int64.\n",
              "\n",
              "&gt;&gt;&gt; df.dtypes\n",
              "col1    int64\n",
              "col2    int64\n",
              "dtype: object\n",
              "\n",
              "To enforce a single dtype:\n",
              "\n",
              "&gt;&gt;&gt; df = pd.DataFrame(data=d, dtype=np.int8)\n",
              "&gt;&gt;&gt; df.dtypes\n",
              "col1    int8\n",
              "col2    int8\n",
              "dtype: object\n",
              "\n",
              "Constructing DataFrame from a dictionary including Series:\n",
              "\n",
              "&gt;&gt;&gt; d = {&#x27;col1&#x27;: [0, 1, 2, 3], &#x27;col2&#x27;: pd.Series([2, 3], index=[2, 3])}\n",
              "&gt;&gt;&gt; pd.DataFrame(data=d, index=[0, 1, 2, 3])\n",
              "   col1  col2\n",
              "0     0   NaN\n",
              "1     1   NaN\n",
              "2     2   2.0\n",
              "3     3   3.0\n",
              "\n",
              "Constructing DataFrame from numpy ndarray:\n",
              "\n",
              "&gt;&gt;&gt; df2 = pd.DataFrame(np.array([[1, 2, 3], [4, 5, 6], [7, 8, 9]]),\n",
              "...                    columns=[&#x27;a&#x27;, &#x27;b&#x27;, &#x27;c&#x27;])\n",
              "&gt;&gt;&gt; df2\n",
              "   a  b  c\n",
              "0  1  2  3\n",
              "1  4  5  6\n",
              "2  7  8  9\n",
              "\n",
              "Constructing DataFrame from a numpy ndarray that has labeled columns:\n",
              "\n",
              "&gt;&gt;&gt; data = np.array([(1, 2, 3), (4, 5, 6), (7, 8, 9)],\n",
              "...                 dtype=[(&quot;a&quot;, &quot;i4&quot;), (&quot;b&quot;, &quot;i4&quot;), (&quot;c&quot;, &quot;i4&quot;)])\n",
              "&gt;&gt;&gt; df3 = pd.DataFrame(data, columns=[&#x27;c&#x27;, &#x27;a&#x27;])\n",
              "...\n",
              "&gt;&gt;&gt; df3\n",
              "   c  a\n",
              "0  3  1\n",
              "1  6  4\n",
              "2  9  7\n",
              "\n",
              "Constructing DataFrame from dataclass:\n",
              "\n",
              "&gt;&gt;&gt; from dataclasses import make_dataclass\n",
              "&gt;&gt;&gt; Point = make_dataclass(&quot;Point&quot;, [(&quot;x&quot;, int), (&quot;y&quot;, int)])\n",
              "&gt;&gt;&gt; pd.DataFrame([Point(0, 0), Point(0, 3), Point(2, 3)])\n",
              "   x  y\n",
              "0  0  0\n",
              "1  0  3\n",
              "2  2  3\n",
              "\n",
              "Constructing DataFrame from Series/DataFrame:\n",
              "\n",
              "&gt;&gt;&gt; ser = pd.Series([1, 2, 3], index=[&quot;a&quot;, &quot;b&quot;, &quot;c&quot;])\n",
              "&gt;&gt;&gt; df = pd.DataFrame(data=ser, index=[&quot;a&quot;, &quot;c&quot;])\n",
              "&gt;&gt;&gt; df\n",
              "   0\n",
              "a  1\n",
              "c  3\n",
              "\n",
              "&gt;&gt;&gt; df1 = pd.DataFrame([1, 2, 3], index=[&quot;a&quot;, &quot;b&quot;, &quot;c&quot;], columns=[&quot;x&quot;])\n",
              "&gt;&gt;&gt; df2 = pd.DataFrame(data=df1, index=[&quot;a&quot;, &quot;c&quot;])\n",
              "&gt;&gt;&gt; df2\n",
              "   x\n",
              "a  1\n",
              "c  3</pre>\n",
              "      <script>\n",
              "      if (google.colab.kernel.accessAllowed && google.colab.files && google.colab.files.view) {\n",
              "        for (const element of document.querySelectorAll('.filepath')) {\n",
              "          element.style.display = 'block'\n",
              "          element.onclick = (event) => {\n",
              "            event.preventDefault();\n",
              "            event.stopPropagation();\n",
              "            google.colab.files.view(element.textContent, 490);\n",
              "          };\n",
              "        }\n",
              "      }\n",
              "      for (const element of document.querySelectorAll('.function-repr-contents')) {\n",
              "        element.onclick = (event) => {\n",
              "          event.preventDefault();\n",
              "          event.stopPropagation();\n",
              "          element.classList.toggle('function-repr-contents-collapsed');\n",
              "        };\n",
              "      }\n",
              "      </script>\n",
              "      </div>"
            ]
          },
          "metadata": {},
          "execution_count": 5
        }
      ]
    },
    {
      "cell_type": "code",
      "execution_count": null,
      "id": "4e4c9217-4ac2-4cba-84c3-4e17c6d00c75",
      "metadata": {
        "colab": {
          "base_uri": "https://localhost:8080/"
        },
        "id": "4e4c9217-4ac2-4cba-84c3-4e17c6d00c75",
        "outputId": "d42f2abf-d59f-4ac3-b4eb-827e12451da8"
      },
      "outputs": [
        {
          "output_type": "execute_result",
          "data": {
            "text/plain": [
              "Index(['Anio', 'Sede', 'Campeon', 'Final Resultado', 'Subcampeon', 'Tercero',\n",
              "       'Resultado', 'Cuarto'],\n",
              "      dtype='object')"
            ]
          },
          "metadata": {},
          "execution_count": 6
        }
      ],
      "source": [
        "file_data.columns"
      ]
    },
    {
      "cell_type": "code",
      "execution_count": null,
      "id": "9fffd550-ba5a-43d5-9d6b-fe079e705abd",
      "metadata": {
        "id": "9fffd550-ba5a-43d5-9d6b-fe079e705abd"
      },
      "outputs": [],
      "source": [
        "type (file_data)"
      ]
    },
    {
      "cell_type": "code",
      "execution_count": null,
      "id": "bfe4ead8-6657-4187-a661-1baeefee0b04",
      "metadata": {
        "colab": {
          "base_uri": "https://localhost:8080/"
        },
        "id": "bfe4ead8-6657-4187-a661-1baeefee0b04",
        "outputId": "af483512-5410-4c0a-d1ed-267d224e1966"
      },
      "outputs": [
        {
          "output_type": "execute_result",
          "data": {
            "text/plain": [
              "array(['Lig.', '1:0', '3:0', '2:0', '7:0', '3:2', '0:1 2:0 1:0',\n",
              "       '3:0 0:1 0:0', '2:0 1:1', '2:1', '1:1', '3:1', '2:2', '0:0'],\n",
              "      dtype=object)"
            ]
          },
          "metadata": {},
          "execution_count": 10
        }
      ],
      "source": [
        "file_data['Final Resultado'].unique()"
      ]
    },
    {
      "cell_type": "code",
      "source": [
        "file_data.Campeon.unique()"
      ],
      "metadata": {
        "colab": {
          "base_uri": "https://localhost:8080/"
        },
        "id": "pnTePaW9fcWS",
        "outputId": "aa32ad9a-fe07-4525-9e0b-7a83d6f05ffc"
      },
      "id": "pnTePaW9fcWS",
      "execution_count": null,
      "outputs": [
        {
          "output_type": "execute_result",
          "data": {
            "text/plain": [
              "array(['Uruguay', 'Brasil', 'Argentina', 'Perú', 'Paraguay', 'Bolivia',\n",
              "       'Colombia', 'Chile'], dtype=object)"
            ]
          },
          "metadata": {},
          "execution_count": 11
        }
      ]
    },
    {
      "cell_type": "code",
      "source": [
        "#respuesta\n",
        "aeropuerto_dataframe.id.unique()"
      ],
      "metadata": {
        "id": "17KFpJ4cfV9j",
        "colab": {
          "base_uri": "https://localhost:8080/"
        },
        "outputId": "7b7cf30c-787f-41b0-c5f9-3dcdd3f87890"
      },
      "id": "17KFpJ4cfV9j",
      "execution_count": null,
      "outputs": [
        {
          "output_type": "execute_result",
          "data": {
            "text/plain": [
              "array([  5781,   5771,   5835,   5831,   5806,   5786,   5852,   5811,\n",
              "         5773,     37,   5834,   5775,   5769,   5822,   5827,   5836,\n",
              "         5848,   5770,   5833,   5840,   5847,   5809,   5851,   5780,\n",
              "         5767,   5829,   5778,  29733,  39058,   5789,   5856,   5823,\n",
              "         5832,   5839,   5804,   5794,   5812,   5846,   5828,   5764,\n",
              "        38833,   5837,   5792,   5768,   5838,   5795,   5790,   5815,\n",
              "         5800,   5853,   5855,   5854,  29898,  38706,  38737,     17,\n",
              "           29,     40,  29803,  29806, 342657,  38850,   5776,     16,\n",
              "        30122,  38932,  38927,  38946,  30260,  30313,  38999,     41,\n",
              "         5803,   5805,   5802,   5788,   5824, 318304,  30057,   5796,\n",
              "         5817,   5765,   5766,   5777,   5807,   5850,   5819,   5826,\n",
              "        29849,  38711,  38722,  29676,  38733,  38739,   5845,  35399,\n",
              "        42817,   5779,  38754,  38755,  38761,  38771,  38775,  38776,\n",
              "        29997,  38782,  42831, 321748,  38799,  32248,  29847,  35334,\n",
              "        38812,  38842,  38845,  42821,  38851,  38855,  38858,  38888,\n",
              "        39029,     25,  39065,  38928,  38894,  38736,  38941, 318268,\n",
              "         5801,  38956,   5842, 318273,  38971,  30339,     26,  30341,\n",
              "        38716,  38713,     43,     30,  32243,  30377,  39009,     38,\n",
              "        35411,  38813,  41560,  35329,  38907,  42881,     39,  30303,\n",
              "        39054,  35413,  38801, 340029,   5849, 318502,   5820,   5821,\n",
              "         5843,   5787,   5808,   5813,   5784,   5844,   5797,   5785,\n",
              "        35398,     20, 313091, 313090, 313092, 313093, 313094, 314778,\n",
              "       327585, 333812, 313008, 324545, 523295, 348473,  42841, 327590,\n",
              "        38707,  38710,  42827,  29656,  38823,  38712, 318230,  38715,\n",
              "        42857,  42882, 321708,  38717,  38718,     42, 324978,     31,\n",
              "       318231, 517209,  42908,  38723,  38724, 323147, 323149,  39060,\n",
              "        38727,  38728,  38698,  38709, 323143, 348475,  38699,  38825,\n",
              "       318238, 318241,  42803, 321709,  38734,  38735,  42862,     34,\n",
              "        29998,  41559,  42820, 348474,  38741, 321710, 343212, 343213,\n",
              "        38743,     19,  38746,     13,     14, 318243, 298325,  35401,\n",
              "        38749,     32, 313021,     21,  38752, 339856, 318244,  38731,\n",
              "        38753,     33,  38751,  38900,  42907, 327603,  42819,  38757,\n",
              "       318245, 339851,  38758, 321732, 321733,  38759,  38760,  42812,\n",
              "       333805,  38763,  38764, 318246, 341793,  29769,  41562, 321746,\n",
              "        38772,  38765,  38773,  38822, 339864,  38774,  35403,  42823,\n",
              "        39061,   5793,     36,  38777,   5782,  39024,  38778,  38700,\n",
              "        38924,  29791,  38783,  42814,  42852, 343214,  38694,  42816,\n",
              "        38785,  38786,  38787, 321734,   5772,  38902,  42799,  42843,\n",
              "       318247,  38811,  38788,  42818,  38789,   5841,  38790, 348453,\n",
              "       348638, 348646, 348647,  38791, 318248, 318249, 321740,  38714,\n",
              "       318250, 321711,  38792, 318945,  41551,  38793,  35333,  38794,\n",
              "        38828,  38796,  38797, 348457, 348458, 348459, 348460, 348461,\n",
              "       348462, 348464, 348465, 348466, 348650,  38800, 323148,  38805,\n",
              "        38806, 313007, 350937,  35336,  42830,  38809,   5816, 318251,\n",
              "       348455, 327561,  39044,  38814,  42810, 318252,  38830, 318253,\n",
              "       348467, 348468,  38719,  38816,  38912,  38817, 348445, 321678,\n",
              "       314776, 314780, 327586, 348447, 333825, 348454, 348451, 348444,\n",
              "       314777, 327647,  39011,  38892,  35332,  38835,  42842, 323144,\n",
              "       348470, 348471,  38836, 321675, 318254,     49,  38705,  38840,\n",
              "       327624,  42801,  42874, 298878, 348469,  38920,  39064,  42906,\n",
              "        29889,  38841,  42846,  38843,  38844,  38846,  38847, 318255,\n",
              "        41557,  38769,  42867, 327611,  38848, 318256,  38708,  38849,\n",
              "         5783,  42847,  35404,  42822,  38852,  42800,   5774,  42838,\n",
              "        38854,  38856,  38883,  38859,  42849,  38745,  42833, 318257,\n",
              "       324544,  42850, 321754, 348639, 348640, 348641, 348642,  38868,\n",
              "       321755,  38873, 318259,  38874,  42828,  42844,  42806,   5825,\n",
              "       327565,  38875,  38877,  38878,  38879,  42804,  38882, 318260,\n",
              "        42855, 321745, 350009,  39071,  41553,  38884,  38885,  38886,\n",
              "        38887,  38826, 321763,  42860,  38891,  42873,  38740,  42853,\n",
              "        42878,  42856, 318263,  38897, 327584,  30055,  38899,  30062,\n",
              "        38905,  46644,  38906,  38815,   5798, 318264,  38909,   5814,\n",
              "        39068, 348643, 348644, 348645,  38910, 343211, 321677,  38915,\n",
              "        39059, 321764,  38916, 321765,  38935,     44, 318265,  31832,\n",
              "        38921,  42870,  38810,  38922, 321766,  38923,  42848, 327625,\n",
              "        38926, 318266,  42858, 318493,  38904, 327605,  38824,  38930,\n",
              "        38931, 349354,  42797,     48, 333807,  38933,  42808, 327652,\n",
              "        35405,  42829,  38898,  42839,  42865,  38937, 348456, 321767,\n",
              "        38807,  38939,  42864,  30113,  38966,  42813,  42835, 327589,\n",
              "         5799,  42802,  38944,  30130,  42837,  30131,  41550,  38948,\n",
              "        38949, 323146,     24,  38738,  38919,  42845,  42868,  42826,\n",
              "        42885,  41549,  38951,  39062,  38952,  39016,  42866,  38697,\n",
              "        38955, 318269,  38913,  42854, 318270, 349356,     28,  38889,\n",
              "        38957, 340031, 318271, 318495,  30202,   5818,  38701,  38960,\n",
              "        38964,  38965,  39075,  42863,  38967,  42861,  38968, 321768,\n",
              "       324366, 327644,  39073, 318274,  41546,  38970, 318275, 318276,\n",
              "       327621,  42834,  38973,  38742,  38977, 321676,  42832,  35409,\n",
              "        42884, 321769,  38979,  42809,  39081,  35330, 348446, 348448,\n",
              "        32244, 313014,  35331, 324542,  38981,  42859,  42871,  38982,\n",
              "        38983,  41554, 313015, 429702, 321771,     22,  38953, 349355,\n",
              "        39067,  38986,  38702,  38987, 348472,  38988, 333831,  41556,\n",
              "        42798,  38989,  38990,  42872,  35335, 318946, 348648, 348649,\n",
              "       318278,  38832,  38991,  39069,  42811,  39070,  41545,  38704,\n",
              "        38993,  45160, 318279, 318281, 321772,  38994,  38980,  38995,\n",
              "        38996,  38997, 318282,  38803, 321775,     18, 318283,  41558,\n",
              "       340036,  42875,  42880,  38998,  42883,  38914,  38929,  38969,\n",
              "        42851,  35410,  39000,  41555,  39001,  42876,  39002,  39003,\n",
              "        42877, 318290, 318297,  39006,  42807,  42879,     46,  39007,\n",
              "       318298,  39008,     45,  45161, 318300,  38829, 321701,  38857,\n",
              "       318492,     47,  38837, 318301,  38853,  39013, 318302,  39074,\n",
              "        46645, 318303,  38839,  30414,  42805, 327639,  39019, 348749,\n",
              "        39021, 327617, 324367,     23,  38703,  42815, 348463,  42840,\n",
              "        39027,   5791, 318305, 318306, 348449,  39030,  42836,  39031,\n",
              "        38893,  39066,  45162,  42869, 318307, 323145, 343215,  42886,\n",
              "        38936,  39045,  39047, 318308,  32247,  35412, 313022,  41552,\n",
              "        38756,  39048,  39049,  39050,  39051,  39052,  38942, 318311,\n",
              "       318313, 318314, 318309, 318310, 340037,  39072,  39020,  38696,\n",
              "        46643,  41548,  39053,  41547,  39063,  38818, 340038,     15,\n",
              "       318507, 318506,  39055,  39056,  39057, 318508,  30530,  42824,\n",
              "        42825, 324368, 348476,  42888,  39042,  38890,  38961,  38976,\n",
              "        38972,  39037,  38744,  38925,  38726,  38732,  38766,  38798,\n",
              "        38838,  38872,  38938,  38962,  38978,  39012,  39022,  38748,\n",
              "        39032,  38901,  38917,  38934,  39005,  38831,  38808,  39039,\n",
              "        38903,  39023,  38750,  38762,  38780,  38974,  38984,  38895,\n",
              "        38860,  39025,  39028,  39041,  38767,  39033,  38950,  39046,\n",
              "        39004,  38940,  38730,  38827,  38896,  38959,  39026,  38795,\n",
              "        38804,  38975,  38911,  38819,  38943,  39018,  39034,  39015,\n",
              "        38695,  39043,  38867,  38954,  38908,  38870,  39038,  38729,\n",
              "        38945,  39036,  39035,  38725,  38992,  39040,  38768,  38834,\n",
              "        38869,  38871,  38720,  38784,  39014,  38781,  38770,  38820,\n",
              "        38985,  38721,  38862,  38866,  38861,  38863,  38864,  38865,\n",
              "        38881,  38821,  38958,  38779,  38918, 333823, 333806, 333808,\n",
              "       333811,  42898, 318509,  42896, 340025,  42897, 340030,  45153,\n",
              "       333810,  42889, 318510,  45154, 340028, 340023, 340022,  44745,\n",
              "        42894,  42891,  42901,  42890, 318511, 318513,  42904, 318514,\n",
              "       327651, 340024, 333814,  42902, 348363,  42892,  42900,  45156,\n",
              "       327642, 348477, 348452, 340027, 351892, 327626, 354551, 354556,\n",
              "       318515,  45155,  42899,  45157, 354557, 318516, 333809,  42895,\n",
              "       318517, 340026, 333824,  42893, 333815,  42903,  42905])"
            ]
          },
          "metadata": {},
          "execution_count": 65
        }
      ]
    },
    {
      "cell_type": "code",
      "execution_count": null,
      "id": "70896bb7-6364-46cc-a1f3-bb0d16392aac",
      "metadata": {
        "colab": {
          "base_uri": "https://localhost:8080/"
        },
        "id": "70896bb7-6364-46cc-a1f3-bb0d16392aac",
        "outputId": "1c734bc2-9ac8-43ef-92cd-bb411ef42803"
      },
      "outputs": [
        {
          "output_type": "execute_result",
          "data": {
            "text/plain": [
              "id                     0\n",
              "ident                  0\n",
              "type                   0\n",
              "name                   0\n",
              "latitude_deg           0\n",
              "longitude_deg          0\n",
              "elevation_ft          35\n",
              "continent              0\n",
              "country_name           0\n",
              "iso_country            0\n",
              "region_name            0\n",
              "iso_region             0\n",
              "local_region           0\n",
              "municipality          16\n",
              "scheduled_service      0\n",
              "gps_code             718\n",
              "iata_code            840\n",
              "local_code           182\n",
              "home_link            929\n",
              "wikipedia_link       862\n",
              "keywords             835\n",
              "score                  0\n",
              "last_updated           0\n",
              "dtype: int64"
            ]
          },
          "metadata": {},
          "execution_count": 69
        }
      ],
      "source": [
        "# respuesta\n",
        "aeropuerto_dataframe.isnull().sum()"
      ]
    },
    {
      "cell_type": "markdown",
      "id": "efcb2f9a-f2cc-40dd-b0d0-a29ff36d4d5f",
      "metadata": {
        "id": "efcb2f9a-f2cc-40dd-b0d0-a29ff36d4d5f"
      },
      "source": []
    },
    {
      "cell_type": "markdown",
      "source": [
        "# Parte 2"
      ],
      "metadata": {
        "id": "ZYXN8cScq8g5"
      },
      "id": "ZYXN8cScq8g5"
    },
    {
      "cell_type": "markdown",
      "source": [
        "# Completar hasta acá de la actividad 4 hasta el viernes 3/5"
      ],
      "metadata": {
        "id": "AB52fbZZoYEX"
      },
      "id": "AB52fbZZoYEX"
    },
    {
      "cell_type": "markdown",
      "id": "ad28f4fa-aa40-4ef3-a208-56dc7ae05e92",
      "metadata": {
        "id": "ad28f4fa-aa40-4ef3-a208-56dc7ae05e92"
      },
      "source": [
        "## Gráficamos"
      ]
    },
    {
      "cell_type": "code",
      "execution_count": null,
      "id": "d966f909-2b70-4019-bcc5-22641455b657",
      "metadata": {
        "id": "d966f909-2b70-4019-bcc5-22641455b657",
        "outputId": "9360209b-a289-4e44-d8e1-97c9ac788d39"
      },
      "outputs": [
        {
          "data": {
            "text/plain": [
              "array(['Uruguay', 'Brasil', 'Argentina', 'Perú', 'Paraguay', 'Bolivia',\n",
              "       'Colombia', 'Chile'], dtype=object)"
            ]
          },
          "execution_count": 7,
          "metadata": {},
          "output_type": "execute_result"
        }
      ],
      "source": [
        "file_data.Campeon.unique()"
      ]
    },
    {
      "cell_type": "markdown",
      "id": "8c9106ba-ec11-44e3-b61c-d2e0ebd13aa2",
      "metadata": {
        "id": "8c9106ba-ec11-44e3-b61c-d2e0ebd13aa2"
      },
      "source": [
        "Hacer un gráfico con la columnas de valores únicos en barra y convertir a torta"
      ]
    },
    {
      "cell_type": "code",
      "execution_count": null,
      "id": "5fb29f9e-4574-45b0-a894-6c328eb78133",
      "metadata": {
        "id": "5fb29f9e-4574-45b0-a894-6c328eb78133",
        "outputId": "4a97253c-d182-49c3-b87e-b3162faf9e0a",
        "colab": {
          "base_uri": "https://localhost:8080/",
          "height": 682
        }
      },
      "outputs": [
        {
          "output_type": "display_data",
          "data": {
            "text/plain": [
              "<Figure size 640x480 with 1 Axes>"
            ],
            "image/png": "[encoded data removed]"
          },
          "metadata": {}
        }
      ],
      "source": [
        "# Crear el gráfico de barras\n",
        "import matplotlib.pyplot as plt\n",
        "# Crear el gráfico de barras\n",
        "aeropuerto_1 = aeropuerto_dataframe['region_name'].value_counts()\n",
        "aeropuerto_1.plot(kind='bar', color='green')\n",
        "\n",
        "# Agregar etiquetas y título\n",
        "plt.xlabel('Regiones')\n",
        "plt.ylabel('Cantidad de vuelos')\n",
        "plt.title('Provincias')\n",
        "\n",
        "# Mostrar el gráfico\n",
        "plt.show()"
      ]
    },
    {
      "cell_type": "markdown",
      "id": "d7e03568-671b-4a94-89a3-6b86f959226a",
      "metadata": {
        "id": "d7e03568-671b-4a94-89a3-6b86f959226a"
      },
      "source": [
        "## 11.Crear el gráfico de torta\n",
        "* Investigar en la página de matplotlib(https://matplotlib.org/) cuál es el parámetro que cambia para hacer un gráfico de torta\n",
        "* ¿Qué otros tipos de gráficos se pueden realizar?"
      ]
    },
    {
      "cell_type": "markdown",
      "id": "53261dc0-fff2-4d64-9d8e-811d93c2e875",
      "metadata": {
        "id": "53261dc0-fff2-4d64-9d8e-811d93c2e875"
      },
      "source": [
        "## Desafío:\n",
        "* Probar realizar gráficos con otras columnas"
      ]
    },
    {
      "cell_type": "code",
      "execution_count": null,
      "id": "a91662a5-9030-49d6-a49c-6b31615ad94c",
      "metadata": {
        "id": "a91662a5-9030-49d6-a49c-6b31615ad94c",
        "outputId": "35523a8c-ded9-439f-a1ba-fae9f572c509",
        "colab": {
          "base_uri": "https://localhost:8080/",
          "height": 569
        }
      },
      "outputs": [
        {
          "output_type": "display_data",
          "data": {
            "text/plain": [
              "<Figure size 640x480 with 1 Axes>"
            ],
            "image/png": "[encoded data removed]"
          },
          "metadata": {}
        }
      ],
      "source": [
        "aeropuerto_1 = aeropuerto_dataframe['type'].value_counts()\n",
        "aeropuerto_1.plot(kind='bar', color='skyblue')\n",
        "\n",
        "# Agregar etiquetas y título\n",
        "plt.xlabel('Tipos de servicios')\n",
        "plt.ylabel('Cantidad de personas')\n",
        "plt.title('Tipos de aerpuertos')\n",
        "\n",
        "# Mostrar el gráfico\n",
        "plt.show()"
      ]
    },
    {
      "cell_type": "markdown",
      "id": "7f04c70b-748c-4877-9a7c-e0db4af544ce",
      "metadata": {
        "id": "7f04c70b-748c-4877-9a7c-e0db4af544ce"
      },
      "source": []
    },
    {
      "cell_type": "code",
      "execution_count": null,
      "id": "c74c400f-0e27-4f89-affb-03321f1c9ce5",
      "metadata": {
        "id": "c74c400f-0e27-4f89-affb-03321f1c9ce5",
        "outputId": "573b9810-2362-45dc-af88-308c44c182fc"
      },
      "outputs": [
        {
          "data": {
            "text/html": [
              "<div>\n",
              "<style scoped>\n",
              "    .dataframe tbody tr th:only-of-type {\n",
              "        vertical-align: middle;\n",
              "    }\n",
              "\n",
              "    .dataframe tbody tr th {\n",
              "        vertical-align: top;\n",
              "    }\n",
              "\n",
              "    .dataframe thead th {\n",
              "        text-align: right;\n",
              "    }\n",
              "</style>\n",
              "<table border=\"1\" class=\"dataframe\">\n",
              "  <thead>\n",
              "    <tr style=\"text-align: right;\">\n",
              "      <th></th>\n",
              "      <th>index</th>\n",
              "      <th>Anio</th>\n",
              "      <th>Sede</th>\n",
              "      <th>Campeon</th>\n",
              "      <th>Final Resultado</th>\n",
              "      <th>Subcampeon</th>\n",
              "      <th>Tercero</th>\n",
              "      <th>Resultado</th>\n",
              "      <th>Cuarto</th>\n",
              "    </tr>\n",
              "  </thead>\n",
              "  <tbody>\n",
              "    <tr>\n",
              "      <th>0</th>\n",
              "      <td>4</td>\n",
              "      <td>1921</td>\n",
              "      <td>Argentina</td>\n",
              "      <td>Argentina</td>\n",
              "      <td>Lig.</td>\n",
              "      <td>Brasil</td>\n",
              "      <td>Uruguay</td>\n",
              "      <td>Lig.</td>\n",
              "      <td>Paraguay</td>\n",
              "    </tr>\n",
              "    <tr>\n",
              "      <th>1</th>\n",
              "      <td>8</td>\n",
              "      <td>1925</td>\n",
              "      <td>Argentina</td>\n",
              "      <td>Argentina</td>\n",
              "      <td>Lig.</td>\n",
              "      <td>Brasil</td>\n",
              "      <td>Paraguay</td>\n",
              "      <td>Lig.</td>\n",
              "      <td>—</td>\n",
              "    </tr>\n",
              "    <tr>\n",
              "      <th>2</th>\n",
              "      <td>10</td>\n",
              "      <td>1927</td>\n",
              "      <td>Perú</td>\n",
              "      <td>Argentina</td>\n",
              "      <td>Lig.</td>\n",
              "      <td>Uruguay</td>\n",
              "      <td>Perú</td>\n",
              "      <td>Lig.</td>\n",
              "      <td>Bolivia</td>\n",
              "    </tr>\n",
              "    <tr>\n",
              "      <th>3</th>\n",
              "      <td>11</td>\n",
              "      <td>1929</td>\n",
              "      <td>Argentina</td>\n",
              "      <td>Argentina</td>\n",
              "      <td>Lig.</td>\n",
              "      <td>Paraguay</td>\n",
              "      <td>Uruguay</td>\n",
              "      <td>Lig.</td>\n",
              "      <td>Perú</td>\n",
              "    </tr>\n",
              "    <tr>\n",
              "      <th>4</th>\n",
              "      <td>13</td>\n",
              "      <td>1937</td>\n",
              "      <td>Argentina</td>\n",
              "      <td>Argentina</td>\n",
              "      <td>2:0</td>\n",
              "      <td>Brasil</td>\n",
              "      <td>Uruguay</td>\n",
              "      <td>Lig.</td>\n",
              "      <td>Paraguay</td>\n",
              "    </tr>\n",
              "    <tr>\n",
              "      <th>5</th>\n",
              "      <td>15</td>\n",
              "      <td>1941</td>\n",
              "      <td>Chile</td>\n",
              "      <td>Argentina</td>\n",
              "      <td>Lig.</td>\n",
              "      <td>Uruguay</td>\n",
              "      <td>Chile</td>\n",
              "      <td>Lig.</td>\n",
              "      <td>Perú</td>\n",
              "    </tr>\n",
              "    <tr>\n",
              "      <th>6</th>\n",
              "      <td>17</td>\n",
              "      <td>1945</td>\n",
              "      <td>Chile</td>\n",
              "      <td>Argentina</td>\n",
              "      <td>Lig.</td>\n",
              "      <td>Uruguay</td>\n",
              "      <td>Chile</td>\n",
              "      <td>Lig.</td>\n",
              "      <td>Brasil</td>\n",
              "    </tr>\n",
              "    <tr>\n",
              "      <th>7</th>\n",
              "      <td>18</td>\n",
              "      <td>1946</td>\n",
              "      <td>Argentina</td>\n",
              "      <td>Argentina</td>\n",
              "      <td>Lig.</td>\n",
              "      <td>Brasil</td>\n",
              "      <td>Paraguay</td>\n",
              "      <td>Lig.</td>\n",
              "      <td>Uruguay</td>\n",
              "    </tr>\n",
              "    <tr>\n",
              "      <th>8</th>\n",
              "      <td>19</td>\n",
              "      <td>1947</td>\n",
              "      <td>Ecuador</td>\n",
              "      <td>Argentina</td>\n",
              "      <td>Lig.</td>\n",
              "      <td>Uruguay</td>\n",
              "      <td>Paraguay</td>\n",
              "      <td>Lig.</td>\n",
              "      <td>Chile</td>\n",
              "    </tr>\n",
              "    <tr>\n",
              "      <th>9</th>\n",
              "      <td>22</td>\n",
              "      <td>1955</td>\n",
              "      <td>Chile</td>\n",
              "      <td>Argentina</td>\n",
              "      <td>Lig.</td>\n",
              "      <td>Chile</td>\n",
              "      <td>Perú</td>\n",
              "      <td>Lig.</td>\n",
              "      <td>Uruguay</td>\n",
              "    </tr>\n",
              "    <tr>\n",
              "      <th>10</th>\n",
              "      <td>24</td>\n",
              "      <td>1957</td>\n",
              "      <td>Perú</td>\n",
              "      <td>Argentina</td>\n",
              "      <td>Lig.</td>\n",
              "      <td>Brasil</td>\n",
              "      <td>Uruguay</td>\n",
              "      <td>Lig.</td>\n",
              "      <td>Perú</td>\n",
              "    </tr>\n",
              "    <tr>\n",
              "      <th>11</th>\n",
              "      <td>33</td>\n",
              "      <td>1991</td>\n",
              "      <td>Chile</td>\n",
              "      <td>Argentina</td>\n",
              "      <td>Lig.</td>\n",
              "      <td>Brasil</td>\n",
              "      <td>Chile</td>\n",
              "      <td>Lig.</td>\n",
              "      <td>Colombia</td>\n",
              "    </tr>\n",
              "    <tr>\n",
              "      <th>12</th>\n",
              "      <td>34</td>\n",
              "      <td>1993</td>\n",
              "      <td>Ecuador</td>\n",
              "      <td>Argentina</td>\n",
              "      <td>2:1</td>\n",
              "      <td>México</td>\n",
              "      <td>Colombia</td>\n",
              "      <td>1:0</td>\n",
              "      <td>Ecuador</td>\n",
              "    </tr>\n",
              "    <tr>\n",
              "      <th>13</th>\n",
              "      <td>45</td>\n",
              "      <td>2021</td>\n",
              "      <td>Brasil</td>\n",
              "      <td>Argentina</td>\n",
              "      <td>1:0</td>\n",
              "      <td>Brasil</td>\n",
              "      <td>-</td>\n",
              "      <td>Colombia</td>\n",
              "      <td>NaN</td>\n",
              "    </tr>\n",
              "  </tbody>\n",
              "</table>\n",
              "</div>"
            ],
            "text/plain": [
              "    index  Anio       Sede    Campeon Final Resultado Subcampeon   Tercero  \\\n",
              "0       4  1921  Argentina  Argentina            Lig.     Brasil   Uruguay   \n",
              "1       8  1925  Argentina  Argentina            Lig.     Brasil  Paraguay   \n",
              "2      10  1927       Perú  Argentina            Lig.    Uruguay      Perú   \n",
              "3      11  1929  Argentina  Argentina            Lig.   Paraguay   Uruguay   \n",
              "4      13  1937  Argentina  Argentina             2:0     Brasil   Uruguay   \n",
              "5      15  1941      Chile  Argentina            Lig.    Uruguay     Chile   \n",
              "6      17  1945      Chile  Argentina            Lig.    Uruguay     Chile   \n",
              "7      18  1946  Argentina  Argentina            Lig.     Brasil  Paraguay   \n",
              "8      19  1947    Ecuador  Argentina            Lig.    Uruguay  Paraguay   \n",
              "9      22  1955      Chile  Argentina            Lig.      Chile      Perú   \n",
              "10     24  1957       Perú  Argentina            Lig.     Brasil   Uruguay   \n",
              "11     33  1991      Chile  Argentina            Lig.     Brasil     Chile   \n",
              "12     34  1993    Ecuador  Argentina             2:1     México  Colombia   \n",
              "13     45  2021     Brasil  Argentina             1:0     Brasil         -   \n",
              "\n",
              "   Resultado    Cuarto  \n",
              "0       Lig.  Paraguay  \n",
              "1       Lig.         —  \n",
              "2       Lig.   Bolivia  \n",
              "3       Lig.      Perú  \n",
              "4       Lig.  Paraguay  \n",
              "5       Lig.      Perú  \n",
              "6       Lig.    Brasil  \n",
              "7       Lig.   Uruguay  \n",
              "8       Lig.     Chile  \n",
              "9       Lig.   Uruguay  \n",
              "10      Lig.      Perú  \n",
              "11      Lig.  Colombia  \n",
              "12       1:0   Ecuador  \n",
              "13  Colombia       NaN  "
            ]
          },
          "execution_count": 19,
          "metadata": {},
          "output_type": "execute_result"
        }
      ],
      "source": [
        "file_data[file_data['Campeon']=='Argentina'].reset_index()"
      ]
    },
    {
      "cell_type": "code",
      "execution_count": null,
      "id": "1ffaef84-5c31-4d77-8011-01eda8dbc8d3",
      "metadata": {
        "id": "1ffaef84-5c31-4d77-8011-01eda8dbc8d3"
      },
      "outputs": [],
      "source": [
        "file_data[file_data['Campeon']=='Uruguay'].reset_index()"
      ]
    },
    {
      "cell_type": "markdown",
      "id": "07e06e15-5983-422d-8c6f-e024e0b4d490",
      "metadata": {
        "id": "07e06e15-5983-422d-8c6f-e024e0b4d490"
      },
      "source": [
        "* Buscar portales con sitios abiertos completar con\n",
        "    * url\n",
        "    * Jurisdicción\n",
        "    * Tipo de archivos encontrados\n",
        "    * Descripción sobre los datos\n",
        "* Completar con tres por o menos, cumnpliendo con:\n",
        "    * Uno de Argentina\n",
        "    * Uno del resto de América\n",
        "    * Uno del resto del mundo\n",
        "* Completar en un paddlet con el gráfico realizado por cada grupo\n",
        "\n",
        "1. Url: https://ar.motor1.com/news/714131/ventas-autos-marzo-2024/\n",
        "*   Jurisdicción: Argentina\n",
        "*   Tipo de archivos encontrados: xls\n",
        "*   Descripción sobre los datos: en esta página encontramos la cantidad de autos vendidos en Argentina en marzo 2024.\n",
        "\n",
        "2. Url: https://world-geography-games.com/es/america.html\n",
        "*   juridicion: América\n",
        "*   Tipo de archivos encontrados: html\n",
        "*   Descripción sobre los datos: Aquí encontramos diferentes juegos geograficos.\n",
        "\n",
        "\n",
        "3. Url: https://geojson.io/#map=2/57.87/48.68\n",
        "*   juridicion: Mundo\n",
        "*   Tipo de archivos encontrados: geojson\n",
        "*   Descripción sobre los datos: en este caso encontramos un archivo geojson con un mapa de todo el mundo."
      ]
    },
    {
      "cell_type": "markdown",
      "id": "9e86b6c1-29d7-4600-af80-8c447c38c0f7",
      "metadata": {
        "id": "9e86b6c1-29d7-4600-af80-8c447c38c0f7"
      },
      "source": []
    },
    {
      "cell_type": "markdown",
      "id": "afa5595a-604a-440f-beea-ce1e26a118e4",
      "metadata": {
        "id": "afa5595a-604a-440f-beea-ce1e26a118e4"
      },
      "source": [
        "# Ordenar\n",
        "Trabajemos con el archivo del último censo, el archivo fue modificado para ser más fácil su análisis\n",
        "* [Censo 2022]('files/c2022_tp_c_resumen_adaptado.csv')\n"
      ]
    },
    {
      "cell_type": "markdown",
      "id": "abb442f5-324f-43e9-b4c6-0c9b036f7dcd",
      "metadata": {
        "id": "abb442f5-324f-43e9-b4c6-0c9b036f7dcd"
      },
      "source": [
        "### Censo 2022: Total de población\n",
        "* Ordenar las jurisdicciones de mayor a menor población."
      ]
    },
    {
      "cell_type": "code",
      "source": [
        "import pandas as pd\n",
        "censo = pd.read_csv('censo.2022.csv')\n",
        "censo.columns\n"
      ],
      "metadata": {
        "id": "c9eywi2N3rRA",
        "colab": {
          "base_uri": "https://localhost:8080/"
        },
        "outputId": "3775471c-b5f9-4203-feff-ea6fd0ddc9e7"
      },
      "id": "c9eywi2N3rRA",
      "execution_count": null,
      "outputs": [
        {
          "output_type": "execute_result",
          "data": {
            "text/plain": [
              "Index(['Jurisdicción', 'Total de población',\n",
              "       'Población en viviendas particulares',\n",
              "       'Población en viviendas colectivas (¹)',\n",
              "       'Población en situación de calle(²)', 'Varones Total de población',\n",
              "       'Varones Población en viviendas particulares',\n",
              "       'Varones Población en viviendas colectivas (¹)',\n",
              "       'VaronesPoblación en situación de calle(²)',\n",
              "       'Mujeres Total de población',\n",
              "       'Mujeres Población en viviendas particulares',\n",
              "       'Mujeres Población en viviendas colectivas (¹)',\n",
              "       'Mujeres Población en situación de calle(²)'],\n",
              "      dtype='object')"
            ]
          },
          "metadata": {},
          "execution_count": 23
        }
      ]
    }
  ],
  "metadata": {
    "kernelspec": {
      "display_name": "Python 3 (ipykernel)",
      "language": "python",
      "name": "python3"
    },
    "language_info": {
      "codemirror_mode": {
        "name": "ipython",
        "version": 3
      },
      "file_extension": ".py",
      "mimetype": "text/x-python",
      "name": "python",
      "nbconvert_exporter": "python",
      "pygments_lexer": "ipython3",
      "version": "3.10.12"
    },
    "colab": {
      "provenance": []
    }
  },
  "nbformat": 4,
  "nbformat_minor": 5
}